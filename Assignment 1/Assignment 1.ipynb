{
 "cells": [
  {
   "cell_type": "markdown",
   "id": "bb36b72b",
   "metadata": {},
   "source": [
    "# Assignment 1"
   ]
  },
  {
   "cell_type": "markdown",
   "id": "00c23839",
   "metadata": {},
   "source": [
    "####  Q1. Create one variable containing following type of data:\n",
    "1. string\n",
    "2. list\n",
    "3. float\n",
    "4. tuple"
   ]
  },
  {
   "cell_type": "code",
   "execution_count": 1,
   "id": "b61244e9",
   "metadata": {},
   "outputs": [
    {
     "name": "stdout",
     "output_type": "stream",
     "text": [
      "Hello , How are You!\n",
      "Typye of abc: <class 'str'>\n"
     ]
    }
   ],
   "source": [
    "# 1.String \n",
    "abc = \"Hello , How are You!\"\n",
    "print(abc)\n",
    "print(\"Typye of abc:\", type(abc))"
   ]
  },
  {
   "cell_type": "code",
   "execution_count": 2,
   "id": "4ce1d449",
   "metadata": {},
   "outputs": [
    {
     "name": "stdout",
     "output_type": "stream",
     "text": [
      "[1, 2, 3, 4, 5, 6]\n",
      "Typye of abc: <class 'list'>\n"
     ]
    }
   ],
   "source": [
    "abc = [1,2,3,4,5,6]\n",
    "print(abc)\n",
    "print(\"Typye of abc:\", type(abc))"
   ]
  },
  {
   "cell_type": "code",
   "execution_count": 3,
   "id": "c4443fa6",
   "metadata": {},
   "outputs": [
    {
     "name": "stdout",
     "output_type": "stream",
     "text": [
      "13.4\n",
      "Typye of abc: <class 'float'>\n"
     ]
    }
   ],
   "source": [
    "abc = 13.4\n",
    "print(abc)\n",
    "print(\"Typye of abc:\", type(abc))"
   ]
  },
  {
   "cell_type": "code",
   "execution_count": 4,
   "id": "579767db",
   "metadata": {},
   "outputs": [
    {
     "name": "stdout",
     "output_type": "stream",
     "text": [
      "(1, 2, 3, 4, 5)\n",
      "Typye of abc: <class 'tuple'>\n"
     ]
    }
   ],
   "source": [
    "abc = (1,2,3,4,5)\n",
    "print(abc)\n",
    "print(\"Typye of abc:\", type(abc))"
   ]
  },
  {
   "cell_type": "markdown",
   "id": "04a508c9",
   "metadata": {},
   "source": [
    "#### Q2. Given are some following variables containing data:\n",
    "* (i) var1 = ‘ ‘\n",
    "* (ii) var2 = ‘[ DS , ML , Python]’\n",
    "* (iii) var3 = [ ‘DS’ , ’ML’ , ‘Python’ ]\n",
    "* (iv) var4 = 1.\n",
    "\n",
    "What will be the data type of the above given variable."
   ]
  },
  {
   "cell_type": "code",
   "execution_count": 5,
   "id": "a57b8891",
   "metadata": {},
   "outputs": [
    {
     "name": "stdout",
     "output_type": "stream",
     "text": [
      "<class 'str'>\n"
     ]
    }
   ],
   "source": [
    "var1 = ' '\n",
    "print(type(var1)) "
   ]
  },
  {
   "cell_type": "code",
   "execution_count": 6,
   "id": "8c72c7d9",
   "metadata": {},
   "outputs": [
    {
     "name": "stdout",
     "output_type": "stream",
     "text": [
      "<class 'str'>\n"
     ]
    }
   ],
   "source": [
    "var2 = '[ DS , ML , Python]'\n",
    "print(type(var2))  "
   ]
  },
  {
   "cell_type": "code",
   "execution_count": 7,
   "id": "0bb2b56d",
   "metadata": {},
   "outputs": [
    {
     "name": "stdout",
     "output_type": "stream",
     "text": [
      "<class 'list'>\n"
     ]
    }
   ],
   "source": [
    "var3 = ['DS', 'ML', 'Python']\n",
    "print(type(var3))  "
   ]
  },
  {
   "cell_type": "code",
   "execution_count": 8,
   "id": "244f713d",
   "metadata": {},
   "outputs": [
    {
     "name": "stdout",
     "output_type": "stream",
     "text": [
      "<class 'float'>\n"
     ]
    }
   ],
   "source": [
    "var4 = 1.\n",
    "print(type(var4))  "
   ]
  },
  {
   "cell_type": "markdown",
   "id": "78bcd4a1",
   "metadata": {},
   "source": [
    "#### Q3. Explain the use of the following operators using an example:\n",
    "* (i) /\n",
    "* (ii) %\n",
    "* (iii) //\n",
    "* (iv) **"
   ]
  },
  {
   "cell_type": "markdown",
   "id": "86f19460",
   "metadata": {},
   "source": [
    "* (i) **/ (Division Operator):**\n",
    "The / operator is used for regular division in Python. It returns the result of dividing the left operand by the right operand."
   ]
  },
  {
   "cell_type": "code",
   "execution_count": 9,
   "id": "994dc37d",
   "metadata": {},
   "outputs": [
    {
     "name": "stdout",
     "output_type": "stream",
     "text": [
      "3.3333333333333335\n"
     ]
    }
   ],
   "source": [
    "a = 10\n",
    "b = 3\n",
    "result = a / b\n",
    "print(result)"
   ]
  },
  {
   "cell_type": "markdown",
   "id": "04f58146",
   "metadata": {},
   "source": [
    "* (ii) **% (Modulus Operator)**:\n",
    "The % operator is used to find the remainder when the left operand is divided by the right operand."
   ]
  },
  {
   "cell_type": "code",
   "execution_count": 10,
   "id": "b4600e50",
   "metadata": {},
   "outputs": [
    {
     "name": "stdout",
     "output_type": "stream",
     "text": [
      "1\n"
     ]
    }
   ],
   "source": [
    "a = 10\n",
    "b = 3\n",
    "remainder = a % b\n",
    "print(remainder)"
   ]
  },
  {
   "cell_type": "markdown",
   "id": "9d9c817d",
   "metadata": {},
   "source": [
    "* (iii) **// (Floor Division Operator)**:\n",
    "The // operator is used for floor division, which returns the largest integer that is less than or equal to the result of dividing the left operand by the right operand. It effectively discards the decimal part."
   ]
  },
  {
   "cell_type": "code",
   "execution_count": 11,
   "id": "fbc38e3a",
   "metadata": {},
   "outputs": [
    {
     "name": "stdout",
     "output_type": "stream",
     "text": [
      "3\n"
     ]
    }
   ],
   "source": [
    "a = 10\n",
    "b = 3\n",
    "result = a // b\n",
    "print(result)"
   ]
  },
  {
   "cell_type": "markdown",
   "id": "6d018319",
   "metadata": {},
   "source": [
    "* **(iv) ** (Exponentiation Operator):**\n",
    "The ** operator is used to calculate the exponent of the left operand to the power of the right operand."
   ]
  },
  {
   "cell_type": "code",
   "execution_count": 12,
   "id": "e0dd33db",
   "metadata": {},
   "outputs": [
    {
     "name": "stdout",
     "output_type": "stream",
     "text": [
      "8\n"
     ]
    }
   ],
   "source": [
    "a = 2\n",
    "b = 3\n",
    "result = a ** b\n",
    "print(result) "
   ]
  },
  {
   "cell_type": "markdown",
   "id": "e6daebd5",
   "metadata": {},
   "source": [
    "#### Q4. Create a list of length 10 of your choice containing multiple types of data. Using for loop print the element and its data type."
   ]
  },
  {
   "cell_type": "code",
   "execution_count": 13,
   "id": "0fb25131",
   "metadata": {},
   "outputs": [
    {
     "name": "stdout",
     "output_type": "stream",
     "text": [
      "Element: 10, Data Type: <class 'int'>\n",
      "Element: Hello, Data Type: <class 'str'>\n",
      "Element: 3.14, Data Type: <class 'float'>\n",
      "Element: True, Data Type: <class 'bool'>\n",
      "Element: [1, 2, 3], Data Type: <class 'list'>\n",
      "Element: ('apple', 'banana'), Data Type: <class 'tuple'>\n",
      "Element: {'name': 'Shubhnagi', 'Jeve': 30}, Data Type: <class 'dict'>\n",
      "Element: None, Data Type: <class 'NoneType'>\n",
      "Element: 5, Data Type: <class 'int'>\n",
      "Element: World, Data Type: <class 'str'>\n"
     ]
    }
   ],
   "source": [
    "my_list = [10, \"Hello\", 3.14, True, [1, 2, 3], ('apple', 'banana'), {'name': 'Shubhnagi', 'Jeve': 30}, None, 5, \"World\"]\n",
    "\n",
    "for item in my_list:\n",
    "    print(f\"Element: {item}, Data Type: {type(item)}\")\n"
   ]
  },
  {
   "cell_type": "markdown",
   "id": "c3a59c86",
   "metadata": {},
   "source": [
    "#### Q5. Using a while loop, verify if the number A is purely divisible by number B and if so then how many times it can be divisible."
   ]
  },
  {
   "cell_type": "code",
   "execution_count": 14,
   "id": "ad12edd3",
   "metadata": {},
   "outputs": [
    {
     "name": "stdout",
     "output_type": "stream",
     "text": [
      "Enter number A: 3\n",
      "Enter number B: 7\n",
      "3 is not purely divisible by 7.\n"
     ]
    }
   ],
   "source": [
    "A = int(input(\"Enter number A: \"))\n",
    "B = int(input(\"Enter number B: \"))\n",
    "count = 0\n",
    "\n",
    "while A % B == 0:\n",
    "    A = A // B\n",
    "    count += 1\n",
    "\n",
    "if count > 0:\n",
    "    print(f\"{A} can be divided by {B} {count} times.\")\n",
    "else:\n",
    "    print(f\"{A} is not purely divisible by {B}.\")\n"
   ]
  },
  {
   "cell_type": "markdown",
   "id": "ee31d872",
   "metadata": {},
   "source": [
    "#### Q6. Create a list containing 25 int type data. Using for loop and if-else condition print if the element is divisible by 3 or not."
   ]
  },
  {
   "cell_type": "code",
   "execution_count": 15,
   "id": "4c9773ea",
   "metadata": {},
   "outputs": [
    {
     "name": "stdout",
     "output_type": "stream",
     "text": [
      "2 is not divisible by 3.\n",
      "6 is divisible by 3.\n",
      "9 is divisible by 3.\n",
      "12 is divisible by 3.\n",
      "15 is divisible by 3.\n",
      "18 is divisible by 3.\n",
      "22 is not divisible by 3.\n",
      "27 is divisible by 3.\n",
      "30 is divisible by 3.\n",
      "33 is divisible by 3.\n",
      "36 is divisible by 3.\n",
      "41 is not divisible by 3.\n",
      "45 is divisible by 3.\n",
      "48 is divisible by 3.\n",
      "51 is divisible by 3.\n",
      "54 is divisible by 3.\n",
      "58 is not divisible by 3.\n",
      "63 is divisible by 3.\n",
      "66 is divisible by 3.\n",
      "69 is divisible by 3.\n",
      "72 is divisible by 3.\n",
      "77 is not divisible by 3.\n",
      "81 is divisible by 3.\n",
      "84 is divisible by 3.\n",
      "87 is divisible by 3.\n"
     ]
    }
   ],
   "source": [
    "my_list = [2, 6, 9, 12, 15, 18, 22, 27, 30, 33, 36, 41, 45, 48, 51, 54, 58, 63, 66, 69, 72, 77, 81, 84, 87]\n",
    "\n",
    "for number in my_list:\n",
    "    if number % 3 == 0:\n",
    "        print(f\"{number} is divisible by 3.\")\n",
    "    else:\n",
    "        print(f\"{number} is not divisible by 3.\")\n"
   ]
  },
  {
   "cell_type": "markdown",
   "id": "c98cd0a0",
   "metadata": {},
   "source": [
    "#### Q7. What do you understand about mutable and immutable data types? Give examples for both showing this property."
   ]
  },
  {
   "cell_type": "markdown",
   "id": "5332ee9d",
   "metadata": {},
   "source": [
    "Mutable and immutable data types refer to whether the data in a variable can be changed after it is created. In Python, mutable data types allow for in-place modifications, meaning their content can be modified, while immutable data types do not allow changes once they are created."
   ]
  },
  {
   "cell_type": "markdown",
   "id": "c20d9ca6",
   "metadata": {},
   "source": [
    "**Immutable Data Types:**"
   ]
  },
  {
   "cell_type": "markdown",
   "id": "921ec9a1",
   "metadata": {},
   "source": [
    "1. int, float, bool:\n",
    "Integers, floating-point numbers, and booleans are immutable. Once you assign a value to them, you cannot change it."
   ]
  },
  {
   "cell_type": "code",
   "execution_count": 16,
   "id": "29901b85",
   "metadata": {},
   "outputs": [
    {
     "name": "stdout",
     "output_type": "stream",
     "text": [
      "10\n"
     ]
    }
   ],
   "source": [
    "x = 5\n",
    "x = 10 \n",
    "print(x)"
   ]
  },
  {
   "cell_type": "markdown",
   "id": "34ad1b26",
   "metadata": {},
   "source": [
    "2. str (string):\n",
    "Strings are also immutable. You cannot modify a character in a string directly. Any operation that appears to modify a string actually creates a new string."
   ]
  },
  {
   "cell_type": "code",
   "execution_count": 17,
   "id": "75594f80",
   "metadata": {},
   "outputs": [
    {
     "name": "stdout",
     "output_type": "stream",
     "text": [
      "Hello World\n"
     ]
    }
   ],
   "source": [
    "text = \"Hello\"\n",
    "text = text + \" World\" \n",
    "print(text)"
   ]
  },
  {
   "cell_type": "markdown",
   "id": "e3b2b74f",
   "metadata": {},
   "source": [
    "3. tuple:\n",
    "Tuples are immutable sequences. You cannot change the elements of a tuple once it is created."
   ]
  },
  {
   "cell_type": "code",
   "execution_count": 18,
   "id": "13d9cacd",
   "metadata": {},
   "outputs": [
    {
     "name": "stdout",
     "output_type": "stream",
     "text": [
      "10\n"
     ]
    }
   ],
   "source": [
    "tup = (1, 2, 3)\n",
    "tup=(10)\n",
    "print(tup)"
   ]
  },
  {
   "cell_type": "markdown",
   "id": "ccc814b7",
   "metadata": {},
   "source": [
    "**Mutable Data Types:**"
   ]
  },
  {
   "cell_type": "markdown",
   "id": "2799c238",
   "metadata": {},
   "source": [
    "1. list:\n",
    "Lists are mutable in Python. You can add, remove, or modify elements in a list after it is created."
   ]
  },
  {
   "cell_type": "code",
   "execution_count": 19,
   "id": "b57a620f",
   "metadata": {},
   "outputs": [
    {
     "name": "stdout",
     "output_type": "stream",
     "text": [
      "[10, 2, 3]\n"
     ]
    }
   ],
   "source": [
    "my_list = [1, 2, 3]\n",
    "my_list[0] = 10  \n",
    "print(my_list)"
   ]
  },
  {
   "cell_type": "markdown",
   "id": "0bffd6d8",
   "metadata": {},
   "source": [
    "2. dict (dictionary):\n",
    "Dictionaries are mutable data types. You can add, remove, or change key-value pairs in a dictionary."
   ]
  },
  {
   "cell_type": "code",
   "execution_count": 20,
   "id": "7082d13a",
   "metadata": {},
   "outputs": [
    {
     "name": "stdout",
     "output_type": "stream",
     "text": [
      "{'name': 'subhu', 'age': 20}\n"
     ]
    }
   ],
   "source": [
    "my_dict = {'name': 'subhu', 'age': 30}\n",
    "my_dict['age'] = 20\n",
    "print(my_dict)"
   ]
  },
  {
   "cell_type": "markdown",
   "id": "8888e200",
   "metadata": {},
   "source": [
    "3. set:\n",
    "Sets are mutable collections of unique elements. You can add or remove elements from a set."
   ]
  },
  {
   "cell_type": "code",
   "execution_count": 21,
   "id": "c69cb7b0",
   "metadata": {},
   "outputs": [
    {
     "name": "stdout",
     "output_type": "stream",
     "text": [
      "{1, 2, 3, 4}\n"
     ]
    }
   ],
   "source": [
    "my_set = {1, 2, 3}\n",
    "my_set.add(4)  \n",
    "print(my_set)"
   ]
  },
  {
   "cell_type": "code",
   "execution_count": null,
   "id": "17bcfbdb",
   "metadata": {},
   "outputs": [],
   "source": []
  }
 ],
 "metadata": {
  "kernelspec": {
   "display_name": "Python 3 (ipykernel)",
   "language": "python",
   "name": "python3"
  },
  "language_info": {
   "codemirror_mode": {
    "name": "ipython",
    "version": 3
   },
   "file_extension": ".py",
   "mimetype": "text/x-python",
   "name": "python",
   "nbconvert_exporter": "python",
   "pygments_lexer": "ipython3",
   "version": "3.11.5"
  }
 },
 "nbformat": 4,
 "nbformat_minor": 5
}
